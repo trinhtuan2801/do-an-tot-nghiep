{
 "cells": [
  {
   "cell_type": "code",
   "execution_count": 29,
   "id": "c6237b01",
   "metadata": {},
   "outputs": [
    {
     "name": "stdout",
     "output_type": "stream",
     "text": [
      "Requirement already satisfied: opencv-python in c:\\users\\trinh\\appdata\\local\\programs\\python\\python39\\lib\\site-packages (4.6.0.66)\n",
      "Requirement already satisfied: numpy>=1.14.5 in c:\\users\\trinh\\appdata\\local\\programs\\python\\python39\\lib\\site-packages (from opencv-python) (1.24.0)\n",
      "Note: you may need to restart the kernel to use updated packages.\n"
     ]
    },
    {
     "name": "stderr",
     "output_type": "stream",
     "text": [
      "WARNING: Ignoring invalid distribution -pencv-python-headless (c:\\users\\trinh\\appdata\\local\\programs\\python\\python39\\lib\\site-packages)\n",
      "WARNING: Ignoring invalid distribution -pencv-python-headless (c:\\users\\trinh\\appdata\\local\\programs\\python\\python39\\lib\\site-packages)\n",
      "WARNING: Ignoring invalid distribution -pencv-python-headless (c:\\users\\trinh\\appdata\\local\\programs\\python\\python39\\lib\\site-packages)\n",
      "WARNING: Ignoring invalid distribution -pencv-python-headless (c:\\users\\trinh\\appdata\\local\\programs\\python\\python39\\lib\\site-packages)\n",
      "WARNING: Ignoring invalid distribution -pencv-python-headless (c:\\users\\trinh\\appdata\\local\\programs\\python\\python39\\lib\\site-packages)\n",
      "WARNING: Ignoring invalid distribution -pencv-python-headless (c:\\users\\trinh\\appdata\\local\\programs\\python\\python39\\lib\\site-packages)\n",
      "WARNING: You are using pip version 21.2.3; however, version 22.3.1 is available.\n",
      "You should consider upgrading via the 'C:\\Users\\trinh\\AppData\\Local\\Programs\\Python\\Python39\\python.exe -m pip install --upgrade pip' command.\n"
     ]
    }
   ],
   "source": [
    "pip install opencv-python"
   ]
  },
  {
   "cell_type": "code",
   "execution_count": 1,
   "id": "acf59040",
   "metadata": {},
   "outputs": [
    {
     "name": "stderr",
     "output_type": "stream",
     "text": [
      "C:\\Users\\trinh\\AppData\\Local\\Programs\\Python\\Python39\\lib\\site-packages\\scipy\\__init__.py:146: UserWarning: A NumPy version >=1.16.5 and <1.23.0 is required for this version of SciPy (detected version 1.24.0\n",
      "  warnings.warn(f\"A NumPy version >={np_minversion} and <{np_maxversion}\"\n"
     ]
    }
   ],
   "source": [
    "import tensorflow as tf\n",
    "import numpy as np\n",
    "import matplotlib.pyplot as plt\n",
    "import cv2\n",
    "import numpy.linalg as LA"
   ]
  },
  {
   "cell_type": "code",
   "execution_count": 2,
   "id": "51a94b04",
   "metadata": {},
   "outputs": [],
   "source": [
    "interpreter = tf.lite.Interpreter(model_path='lite-model_movenet_singlepose_lightning_3.tflite')\n",
    "interpreter.allocate_tensors()"
   ]
  },
  {
   "cell_type": "code",
   "execution_count": 3,
   "id": "636e7047",
   "metadata": {},
   "outputs": [],
   "source": [
    "box = (120, 10, 400, 470)"
   ]
  },
  {
   "cell_type": "code",
   "execution_count": 4,
   "id": "efaac351",
   "metadata": {},
   "outputs": [],
   "source": [
    "trigger = {\n",
    "    \"dung\" : False,\n",
    "    \"ngoi\" : False,\n",
    "    \"nghieng phai\" : False,\n",
    "    \"nghieng trai\" : False,\n",
    "    \"nhay\" : False,\n",
    "    \"nhay thap\" : False\n",
    "}"
   ]
  },
  {
   "cell_type": "code",
   "execution_count": 21,
   "id": "827a83c3",
   "metadata": {},
   "outputs": [],
   "source": [
    "def check_all_in_box(frame, keypoints, box, update_start):\n",
    "        y, x, c = frame.shape\n",
    "        shaped = np.squeeze(np.multiply(keypoints, [y, x, 1]))\n",
    "\n",
    "        body_point = [shaped[5], shaped[6], shaped[11], shaped[12]]\n",
    "\n",
    "        th = 0.3\n",
    "        if update_start is True:\n",
    "            th = 0.4\n",
    "\n",
    "        for kp in body_point:\n",
    "            y, x, conf = kp\n",
    "            if conf < th:\n",
    "                return False\n",
    "\n",
    "        if shaped[6][1] < box[0]:\n",
    "            return False\n",
    "        if shaped[5][1] > box[0] + box[2]:\n",
    "            return False\n",
    "        if shaped[0][0] > box[1] + box[3] * 2/3:\n",
    "            return False\n",
    "\n",
    "        return True"
   ]
  },
  {
   "cell_type": "code",
   "execution_count": 22,
   "id": "0fd22417",
   "metadata": {},
   "outputs": [],
   "source": [
    "def show_pose(pose):\n",
    "    cv2.putText(frame, pose, (190, 30), 3, 1, (0, 0, 255), 2, cv2.LINE_AA)  "
   ]
  },
  {
   "cell_type": "code",
   "execution_count": 23,
   "id": "7cfc836c",
   "metadata": {},
   "outputs": [],
   "source": [
    "EDGES = {\n",
    "    (0, 1): 'm',\n",
    "    (0, 2): 'c',\n",
    "    (1, 3): 'm',\n",
    "    (2, 4): 'c',\n",
    "    (0, 5): 'm',\n",
    "    (0, 6): 'c',\n",
    "    (5, 7): 'm',\n",
    "    (7, 9): 'm',\n",
    "    (6, 8): 'c',\n",
    "    (8, 10): 'c',\n",
    "    (5, 6): 'y',\n",
    "    (5, 11): 'm',\n",
    "    (6, 12): 'c',\n",
    "    (11, 12): 'y',\n",
    "    (11, 13): 'm',\n",
    "    (13, 15): 'm',\n",
    "    (12, 14): 'c',\n",
    "    (14, 16): 'c'\n",
    "}"
   ]
  },
  {
   "cell_type": "code",
   "execution_count": 24,
   "id": "aab0e3b0",
   "metadata": {},
   "outputs": [],
   "source": [
    "def draw_connections(frame, keypoints, edges, confidence_threshold):\n",
    "    y, x, c = frame.shape\n",
    "    shaped = np.squeeze(np.multiply(keypoints, [y,x,1]))\n",
    "    \n",
    "    for edge, color in edges.items():\n",
    "        p1, p2 = edge\n",
    "        y1, x1, c1 = shaped[p1]\n",
    "        y2, x2, c2 = shaped[p2]\n",
    "        \n",
    "        if (c1 > confidence_threshold) & (c2 > confidence_threshold):      \n",
    "            cv2.line(frame, (int(x1), int(y1)), (int(x2), int(y2)), (0,0,255), 2)"
   ]
  },
  {
   "cell_type": "code",
   "execution_count": 25,
   "id": "5b6cb1a7",
   "metadata": {},
   "outputs": [],
   "source": [
    "def draw_keypoints(frame, keypoints, confidence_threshold):\n",
    "    y, x, c = frame.shape\n",
    "    shaped = np.squeeze(np.multiply(keypoints, [y,x,1]))\n",
    "    \n",
    "    for kp in shaped:\n",
    "        ky, kx, kp_conf = kp\n",
    "        if kp_conf > confidence_threshold:\n",
    "            cv2.circle(frame, (int(kx), int(ky)), 4, (0,255,0), -1)"
   ]
  },
  {
   "cell_type": "code",
   "execution_count": 26,
   "id": "4ccc1ff7",
   "metadata": {
    "scrolled": true
   },
   "outputs": [],
   "source": [
    "cap = cv2.VideoCapture(0)\n",
    "\n",
    "while cap.isOpened():\n",
    "    ret, frame = cap.read()\n",
    "    \n",
    "    # Reshape image\n",
    "    img = frame.copy()\n",
    "    img = tf.image.resize_with_pad(np.expand_dims(img, axis=0), 192,192)\n",
    "    input_image = tf.cast(img, dtype=tf.float32)\n",
    "    \n",
    "    # Setup input and output \n",
    "    input_details = interpreter.get_input_details()\n",
    "    output_details = interpreter.get_output_details()\n",
    "    \n",
    "    # Make predictions \n",
    "    interpreter.set_tensor(input_details[0]['index'], np.array(input_image))\n",
    "    interpreter.invoke()\n",
    "    keypoints_with_scores = interpreter.get_tensor(output_details[0]['index'])\n",
    "    \n",
    "    # Rendering \n",
    "    draw_connections(frame, keypoints_with_scores, EDGES, 0)\n",
    "    draw_keypoints(frame, keypoints_with_scores, 0)\n",
    "    \n",
    "    # Check Inside Box\n",
    "    color = ()\n",
    "    isInside = False\n",
    "    \n",
    "    if check_all_in_box(frame, keypoints_with_scores, box, False):\n",
    "        isInside = True\n",
    "        color = (0, 255, 0)\n",
    "    else:\n",
    "        isInside = False\n",
    "        color = (0, 0, 255)\n",
    "    \n",
    "    # Draw Box\n",
    "    cv2.line(frame, (box[0], box[1]), (box[0], box[1] + box[3]), color, 2)\n",
    "    cv2.line(frame, (box[0], box[1]), (box[0] + box[2], box[1]), color, 2)\n",
    "    cv2.line(frame, (box[0] + box[2], box[1] + box[3]), (box[0] + box[2], box[1]), color, 2)\n",
    "    cv2.line(frame, (box[0] + box[2], box[1] + box[3]), (box[0], box[1]+box[3]), color, 2)\n",
    "    \n",
    "    # Crop and Show\n",
    "#     frame_resize = frame[0:480, 160:480]\n",
    "    cv2.imshow('MoveNet Lightning', frame)\n",
    "    \n",
    "    # Close\n",
    "    while cv2.waitKey(10) & 0xFF==ord('q'):\n",
    "        break\n",
    "        \n",
    "    if cv2.getWindowProperty('MoveNet Lightning', 4) < 1:\n",
    "        break\n",
    "                                                                                                 \n",
    "cap.release()\n",
    "cv2.destroyAllWindows()\n"
   ]
  },
  {
   "cell_type": "code",
   "execution_count": null,
   "id": "0ed256dd",
   "metadata": {},
   "outputs": [],
   "source": []
  },
  {
   "cell_type": "code",
   "execution_count": null,
   "id": "15f1ef68",
   "metadata": {},
   "outputs": [],
   "source": []
  }
 ],
 "metadata": {
  "kernelspec": {
   "display_name": "Python 3",
   "language": "python",
   "name": "python3"
  },
  "language_info": {
   "codemirror_mode": {
    "name": "ipython",
    "version": 3
   },
   "file_extension": ".py",
   "mimetype": "text/x-python",
   "name": "python",
   "nbconvert_exporter": "python",
   "pygments_lexer": "ipython3",
   "version": "3.9.7"
  },
  "vscode": {
   "interpreter": {
    "hash": "e6afeca0372d94d0c579434fa5b59de03a11440a7c560e6ae1f1a07dbf3445ad"
   }
  }
 },
 "nbformat": 4,
 "nbformat_minor": 5
}
